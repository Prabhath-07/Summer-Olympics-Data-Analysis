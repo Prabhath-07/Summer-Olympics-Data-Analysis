{
  "nbformat": 4,
  "nbformat_minor": 0,
  "metadata": {
    "colab": {
      "name": "Summer.ipynb",
      "provenance": []
    },
    "kernelspec": {
      "name": "python3",
      "display_name": "Python 3"
    },
    "language_info": {
      "name": "python"
    }
  },
  "cells": [
    {
      "cell_type": "markdown",
      "metadata": {
        "id": "MCdaqvUDsmKd"
      },
      "source": [
        "\n",
        "# **Summer Olympics Data Analysis Assignment**"
      ]
    },
    {
      "cell_type": "code",
      "metadata": {
        "colab": {
          "base_uri": "https://localhost:8080/",
          "height": 418
        },
        "id": "YVzkgWOms40C",
        "outputId": "89257334-d318-47d8-ef24-7abc1ca0a857"
      },
      "source": [
        "import pandas as pd\n",
        "\n",
        "df = pd.read_csv(\"summer.csv\")\n",
        "df"
      ],
      "execution_count": 1,
      "outputs": [
        {
          "output_type": "execute_result",
          "data": {
            "text/html": [
              "<div>\n",
              "<style scoped>\n",
              "    .dataframe tbody tr th:only-of-type {\n",
              "        vertical-align: middle;\n",
              "    }\n",
              "\n",
              "    .dataframe tbody tr th {\n",
              "        vertical-align: top;\n",
              "    }\n",
              "\n",
              "    .dataframe thead th {\n",
              "        text-align: right;\n",
              "    }\n",
              "</style>\n",
              "<table border=\"1\" class=\"dataframe\">\n",
              "  <thead>\n",
              "    <tr style=\"text-align: right;\">\n",
              "      <th></th>\n",
              "      <th>Year</th>\n",
              "      <th>City</th>\n",
              "      <th>Sport</th>\n",
              "      <th>Discipline</th>\n",
              "      <th>Athlete</th>\n",
              "      <th>Country</th>\n",
              "      <th>Gender</th>\n",
              "      <th>Event</th>\n",
              "      <th>Medal</th>\n",
              "    </tr>\n",
              "  </thead>\n",
              "  <tbody>\n",
              "    <tr>\n",
              "      <th>0</th>\n",
              "      <td>1896</td>\n",
              "      <td>Athens</td>\n",
              "      <td>Aquatics</td>\n",
              "      <td>Swimming</td>\n",
              "      <td>HAJOS, Alfred</td>\n",
              "      <td>HUN</td>\n",
              "      <td>Men</td>\n",
              "      <td>100M Freestyle</td>\n",
              "      <td>Gold</td>\n",
              "    </tr>\n",
              "    <tr>\n",
              "      <th>1</th>\n",
              "      <td>1896</td>\n",
              "      <td>Athens</td>\n",
              "      <td>Aquatics</td>\n",
              "      <td>Swimming</td>\n",
              "      <td>HERSCHMANN, Otto</td>\n",
              "      <td>AUT</td>\n",
              "      <td>Men</td>\n",
              "      <td>100M Freestyle</td>\n",
              "      <td>Silver</td>\n",
              "    </tr>\n",
              "    <tr>\n",
              "      <th>2</th>\n",
              "      <td>1896</td>\n",
              "      <td>Athens</td>\n",
              "      <td>Aquatics</td>\n",
              "      <td>Swimming</td>\n",
              "      <td>DRIVAS, Dimitrios</td>\n",
              "      <td>GRE</td>\n",
              "      <td>Men</td>\n",
              "      <td>100M Freestyle For Sailors</td>\n",
              "      <td>Bronze</td>\n",
              "    </tr>\n",
              "    <tr>\n",
              "      <th>3</th>\n",
              "      <td>1896</td>\n",
              "      <td>Athens</td>\n",
              "      <td>Aquatics</td>\n",
              "      <td>Swimming</td>\n",
              "      <td>MALOKINIS, Ioannis</td>\n",
              "      <td>GRE</td>\n",
              "      <td>Men</td>\n",
              "      <td>100M Freestyle For Sailors</td>\n",
              "      <td>Gold</td>\n",
              "    </tr>\n",
              "    <tr>\n",
              "      <th>4</th>\n",
              "      <td>1896</td>\n",
              "      <td>Athens</td>\n",
              "      <td>Aquatics</td>\n",
              "      <td>Swimming</td>\n",
              "      <td>CHASAPIS, Spiridon</td>\n",
              "      <td>GRE</td>\n",
              "      <td>Men</td>\n",
              "      <td>100M Freestyle For Sailors</td>\n",
              "      <td>Silver</td>\n",
              "    </tr>\n",
              "    <tr>\n",
              "      <th>...</th>\n",
              "      <td>...</td>\n",
              "      <td>...</td>\n",
              "      <td>...</td>\n",
              "      <td>...</td>\n",
              "      <td>...</td>\n",
              "      <td>...</td>\n",
              "      <td>...</td>\n",
              "      <td>...</td>\n",
              "      <td>...</td>\n",
              "    </tr>\n",
              "    <tr>\n",
              "      <th>31160</th>\n",
              "      <td>2012</td>\n",
              "      <td>London</td>\n",
              "      <td>Wrestling</td>\n",
              "      <td>Wrestling Freestyle</td>\n",
              "      <td>JANIKOWSKI, Damian</td>\n",
              "      <td>POL</td>\n",
              "      <td>Men</td>\n",
              "      <td>Wg 84 KG</td>\n",
              "      <td>Bronze</td>\n",
              "    </tr>\n",
              "    <tr>\n",
              "      <th>31161</th>\n",
              "      <td>2012</td>\n",
              "      <td>London</td>\n",
              "      <td>Wrestling</td>\n",
              "      <td>Wrestling Freestyle</td>\n",
              "      <td>REZAEI, Ghasem Gholamreza</td>\n",
              "      <td>IRI</td>\n",
              "      <td>Men</td>\n",
              "      <td>Wg 96 KG</td>\n",
              "      <td>Gold</td>\n",
              "    </tr>\n",
              "    <tr>\n",
              "      <th>31162</th>\n",
              "      <td>2012</td>\n",
              "      <td>London</td>\n",
              "      <td>Wrestling</td>\n",
              "      <td>Wrestling Freestyle</td>\n",
              "      <td>TOTROV, Rustam</td>\n",
              "      <td>RUS</td>\n",
              "      <td>Men</td>\n",
              "      <td>Wg 96 KG</td>\n",
              "      <td>Silver</td>\n",
              "    </tr>\n",
              "    <tr>\n",
              "      <th>31163</th>\n",
              "      <td>2012</td>\n",
              "      <td>London</td>\n",
              "      <td>Wrestling</td>\n",
              "      <td>Wrestling Freestyle</td>\n",
              "      <td>ALEKSANYAN, Artur</td>\n",
              "      <td>ARM</td>\n",
              "      <td>Men</td>\n",
              "      <td>Wg 96 KG</td>\n",
              "      <td>Bronze</td>\n",
              "    </tr>\n",
              "    <tr>\n",
              "      <th>31164</th>\n",
              "      <td>2012</td>\n",
              "      <td>London</td>\n",
              "      <td>Wrestling</td>\n",
              "      <td>Wrestling Freestyle</td>\n",
              "      <td>LIDBERG, Jimmy</td>\n",
              "      <td>SWE</td>\n",
              "      <td>Men</td>\n",
              "      <td>Wg 96 KG</td>\n",
              "      <td>Bronze</td>\n",
              "    </tr>\n",
              "  </tbody>\n",
              "</table>\n",
              "<p>31165 rows × 9 columns</p>\n",
              "</div>"
            ],
            "text/plain": [
              "       Year    City      Sport  ... Gender                       Event   Medal\n",
              "0      1896  Athens   Aquatics  ...    Men              100M Freestyle    Gold\n",
              "1      1896  Athens   Aquatics  ...    Men              100M Freestyle  Silver\n",
              "2      1896  Athens   Aquatics  ...    Men  100M Freestyle For Sailors  Bronze\n",
              "3      1896  Athens   Aquatics  ...    Men  100M Freestyle For Sailors    Gold\n",
              "4      1896  Athens   Aquatics  ...    Men  100M Freestyle For Sailors  Silver\n",
              "...     ...     ...        ...  ...    ...                         ...     ...\n",
              "31160  2012  London  Wrestling  ...    Men                    Wg 84 KG  Bronze\n",
              "31161  2012  London  Wrestling  ...    Men                    Wg 96 KG    Gold\n",
              "31162  2012  London  Wrestling  ...    Men                    Wg 96 KG  Silver\n",
              "31163  2012  London  Wrestling  ...    Men                    Wg 96 KG  Bronze\n",
              "31164  2012  London  Wrestling  ...    Men                    Wg 96 KG  Bronze\n",
              "\n",
              "[31165 rows x 9 columns]"
            ]
          },
          "metadata": {},
          "execution_count": 1
        }
      ]
    },
    {
      "cell_type": "code",
      "metadata": {
        "colab": {
          "base_uri": "https://localhost:8080/",
          "height": 204
        },
        "id": "NbhZXTFutPNi",
        "outputId": "e67b07ff-108d-4d7e-f62f-a9b2083748b2"
      },
      "source": [
        "df.head()"
      ],
      "execution_count": 2,
      "outputs": [
        {
          "output_type": "execute_result",
          "data": {
            "text/html": [
              "<div>\n",
              "<style scoped>\n",
              "    .dataframe tbody tr th:only-of-type {\n",
              "        vertical-align: middle;\n",
              "    }\n",
              "\n",
              "    .dataframe tbody tr th {\n",
              "        vertical-align: top;\n",
              "    }\n",
              "\n",
              "    .dataframe thead th {\n",
              "        text-align: right;\n",
              "    }\n",
              "</style>\n",
              "<table border=\"1\" class=\"dataframe\">\n",
              "  <thead>\n",
              "    <tr style=\"text-align: right;\">\n",
              "      <th></th>\n",
              "      <th>Year</th>\n",
              "      <th>City</th>\n",
              "      <th>Sport</th>\n",
              "      <th>Discipline</th>\n",
              "      <th>Athlete</th>\n",
              "      <th>Country</th>\n",
              "      <th>Gender</th>\n",
              "      <th>Event</th>\n",
              "      <th>Medal</th>\n",
              "    </tr>\n",
              "  </thead>\n",
              "  <tbody>\n",
              "    <tr>\n",
              "      <th>0</th>\n",
              "      <td>1896</td>\n",
              "      <td>Athens</td>\n",
              "      <td>Aquatics</td>\n",
              "      <td>Swimming</td>\n",
              "      <td>HAJOS, Alfred</td>\n",
              "      <td>HUN</td>\n",
              "      <td>Men</td>\n",
              "      <td>100M Freestyle</td>\n",
              "      <td>Gold</td>\n",
              "    </tr>\n",
              "    <tr>\n",
              "      <th>1</th>\n",
              "      <td>1896</td>\n",
              "      <td>Athens</td>\n",
              "      <td>Aquatics</td>\n",
              "      <td>Swimming</td>\n",
              "      <td>HERSCHMANN, Otto</td>\n",
              "      <td>AUT</td>\n",
              "      <td>Men</td>\n",
              "      <td>100M Freestyle</td>\n",
              "      <td>Silver</td>\n",
              "    </tr>\n",
              "    <tr>\n",
              "      <th>2</th>\n",
              "      <td>1896</td>\n",
              "      <td>Athens</td>\n",
              "      <td>Aquatics</td>\n",
              "      <td>Swimming</td>\n",
              "      <td>DRIVAS, Dimitrios</td>\n",
              "      <td>GRE</td>\n",
              "      <td>Men</td>\n",
              "      <td>100M Freestyle For Sailors</td>\n",
              "      <td>Bronze</td>\n",
              "    </tr>\n",
              "    <tr>\n",
              "      <th>3</th>\n",
              "      <td>1896</td>\n",
              "      <td>Athens</td>\n",
              "      <td>Aquatics</td>\n",
              "      <td>Swimming</td>\n",
              "      <td>MALOKINIS, Ioannis</td>\n",
              "      <td>GRE</td>\n",
              "      <td>Men</td>\n",
              "      <td>100M Freestyle For Sailors</td>\n",
              "      <td>Gold</td>\n",
              "    </tr>\n",
              "    <tr>\n",
              "      <th>4</th>\n",
              "      <td>1896</td>\n",
              "      <td>Athens</td>\n",
              "      <td>Aquatics</td>\n",
              "      <td>Swimming</td>\n",
              "      <td>CHASAPIS, Spiridon</td>\n",
              "      <td>GRE</td>\n",
              "      <td>Men</td>\n",
              "      <td>100M Freestyle For Sailors</td>\n",
              "      <td>Silver</td>\n",
              "    </tr>\n",
              "  </tbody>\n",
              "</table>\n",
              "</div>"
            ],
            "text/plain": [
              "   Year    City     Sport  ... Gender                       Event   Medal\n",
              "0  1896  Athens  Aquatics  ...    Men              100M Freestyle    Gold\n",
              "1  1896  Athens  Aquatics  ...    Men              100M Freestyle  Silver\n",
              "2  1896  Athens  Aquatics  ...    Men  100M Freestyle For Sailors  Bronze\n",
              "3  1896  Athens  Aquatics  ...    Men  100M Freestyle For Sailors    Gold\n",
              "4  1896  Athens  Aquatics  ...    Men  100M Freestyle For Sailors  Silver\n",
              "\n",
              "[5 rows x 9 columns]"
            ]
          },
          "metadata": {},
          "execution_count": 2
        }
      ]
    },
    {
      "cell_type": "markdown",
      "metadata": {
        "id": "jHDhF-B1ssnn"
      },
      "source": [
        "# **1. In how many cities Summer Olympics is held so far?**"
      ]
    },
    {
      "cell_type": "code",
      "metadata": {
        "colab": {
          "base_uri": "https://localhost:8080/"
        },
        "id": "0q6kwB0ksYw2",
        "outputId": "adf38e9a-15b0-4161-c552-6b56a0195d47"
      },
      "source": [
        "# City names\n",
        "print(df['City'].unique())  "
      ],
      "execution_count": 4,
      "outputs": [
        {
          "output_type": "stream",
          "name": "stdout",
          "text": [
            "['Athens' 'Paris' 'St Louis' 'London' 'Stockholm' 'Antwerp' 'Amsterdam'\n",
            " 'Los Angeles' 'Berlin' 'Helsinki' 'Melbourne / Stockholm' 'Rome' 'Tokyo'\n",
            " 'Mexico' 'Munich' 'Montreal' 'Moscow' 'Seoul' 'Barcelona' 'Atlanta'\n",
            " 'Sydney' 'Beijing']\n"
          ]
        }
      ]
    },
    {
      "cell_type": "code",
      "metadata": {
        "colab": {
          "base_uri": "https://localhost:8080/"
        },
        "id": "lsfozDmTuKh1",
        "outputId": "d67c81f4-c8d8-450a-a752-971db71451ba"
      },
      "source": [
        "# Answer\n",
        "print(\"Number of Cities is: \",len(df['City'].unique()))"
      ],
      "execution_count": 6,
      "outputs": [
        {
          "output_type": "stream",
          "name": "stdout",
          "text": [
            "Number of Cities is:  22\n"
          ]
        }
      ]
    },
    {
      "cell_type": "markdown",
      "metadata": {
        "id": "G1indJYVukYF"
      },
      "source": [
        "# **2. Which sport is having most number of Gold Medals so far? (Top 5)**"
      ]
    },
    {
      "cell_type": "code",
      "metadata": {
        "colab": {
          "base_uri": "https://localhost:8080/"
        },
        "id": "pIfqUrV6ud8X",
        "outputId": "e7687af3-4a08-4839-fc7e-6254f9beabd6"
      },
      "source": [
        "new=df[df['Medal'] == 'Gold'].groupby(['Sport']).count()['Medal']\n",
        "new=new.sort_values(ascending=False).head()\n",
        "print(\"Top five Sports with most number of Gold Medals are:\\n\",new)\n"
      ],
      "execution_count": 51,
      "outputs": [
        {
          "output_type": "stream",
          "name": "stdout",
          "text": [
            "Top five Sports with most number of Gold Medals are:\n",
            " Sport\n",
            "Aquatics      1421\n",
            "Athletics     1215\n",
            "Rowing         890\n",
            "Gymnastics     820\n",
            "Fencing        552\n",
            "Name: Medal, dtype: int64\n"
          ]
        }
      ]
    },
    {
      "cell_type": "code",
      "metadata": {
        "colab": {
          "base_uri": "https://localhost:8080/",
          "height": 382
        },
        "id": "y5Ut1QPvvxai",
        "outputId": "37e3ac3c-8541-45db-dd3c-4668af9dbcb0"
      },
      "source": [
        "ax=new.plot(kind = 'bar', figsize = (5,5))\n",
        "ax.set_xlabel(\"Sport\");\n",
        "ax.set_ylabel(\"Number of Gold Medals\");"
      ],
      "execution_count": 52,
      "outputs": [
        {
          "output_type": "display_data",
          "data": {
            "image/png": "[encoded data removed]",
            "text/plain": [
              "<Figure size 360x360 with 1 Axes>"
            ]
          },
          "metadata": {
            "needs_background": "light"
          }
        }
      ]
    },
    {
      "cell_type": "markdown",
      "metadata": {
        "id": "zo629owUxymm"
      },
      "source": [
        "\n",
        "# **3. Which sport is having most number of medals so far? (Top 5)**"
      ]
    },
    {
      "cell_type": "code",
      "metadata": {
        "colab": {
          "base_uri": "https://localhost:8080/"
        },
        "id": "Pn2myCF7x-1R",
        "outputId": "9478e437-aef5-42f3-fe5a-d792310dfbed"
      },
      "source": [
        "new=df.groupby(['Sport'])['Medal'].count()\n",
        "new=new.sort_values(ascending=False).head()\n",
        "print(\"Top five Sports with most number of Total Medals are:\\n\",new)"
      ],
      "execution_count": 53,
      "outputs": [
        {
          "output_type": "stream",
          "name": "stdout",
          "text": [
            "Top five Sports with most number of Total Medals are:\n",
            " Sport\n",
            "Aquatics      4170\n",
            "Athletics     3638\n",
            "Rowing        2667\n",
            "Gymnastics    2307\n",
            "Fencing       1613\n",
            "Name: Medal, dtype: int64\n"
          ]
        }
      ]
    },
    {
      "cell_type": "code",
      "metadata": {
        "colab": {
          "base_uri": "https://localhost:8080/",
          "height": 382
        },
        "id": "G5zjdAZKykYn",
        "outputId": "329556ed-2a5f-44ae-e8ea-3820632a7e58"
      },
      "source": [
        "ax=new.plot(x = 'Sport', y = 'Number of Total Medals', kind = 'bar', figsize = (5,5))\n",
        "ax.set_xlabel(\"Sport\");\n",
        "ax.set_ylabel(\"Number of Medals\");"
      ],
      "execution_count": 54,
      "outputs": [
        {
          "output_type": "display_data",
          "data": {
            "image/png": "[encoded data removed]",
            "text/plain": [
              "<Figure size 360x360 with 1 Axes>"
            ]
          },
          "metadata": {
            "needs_background": "light"
          }
        }
      ]
    },
    {
      "cell_type": "markdown",
      "metadata": {
        "id": "1TmAOFqUyx90"
      },
      "source": [
        "\n",
        "# **4. Which player has won most number of medals? (Top 5)**"
      ]
    },
    {
      "cell_type": "code",
      "metadata": {
        "colab": {
          "base_uri": "https://localhost:8080/"
        },
        "id": "8ef_LTDQy44F",
        "outputId": "1f71a08e-47fd-4781-be22-69a700ac2fe4"
      },
      "source": [
        "new=df.groupby(['Athlete']).count().sort_values(by = 'Medal' , ascending =False)['Medal'].head()\n",
        "print(\"Top five Atheletes with most number of Total Medals are:\\n\",new)"
      ],
      "execution_count": 55,
      "outputs": [
        {
          "output_type": "stream",
          "name": "stdout",
          "text": [
            "Top five Atheletes with most number of Total Medals are:\n",
            " Athlete\n",
            "PHELPS, Michael         22\n",
            "LATYNINA, Larisa        18\n",
            "ANDRIANOV, Nikolay      15\n",
            "MANGIAROTTI, Edoardo    13\n",
            "ONO, Takashi            13\n",
            "Name: Medal, dtype: int64\n"
          ]
        }
      ]
    },
    {
      "cell_type": "code",
      "metadata": {
        "colab": {
          "base_uri": "https://localhost:8080/",
          "height": 441
        },
        "id": "_8lmIofVzf7Q",
        "outputId": "21502a4f-e339-498a-e251-1456f87afc05"
      },
      "source": [
        "ax=new.plot(kind = 'bar', figsize = (5,5))\n",
        "ax.set_xlabel(\"Athelete\");\n",
        "ax.set_ylabel(\"Number of Medals\");"
      ],
      "execution_count": 56,
      "outputs": [
        {
          "output_type": "display_data",
          "data": {
            "image/png": "[encoded data removed]",
            "text/plain": [
              "<Figure size 360x360 with 1 Axes>"
            ]
          },
          "metadata": {
            "needs_background": "light"
          }
        }
      ]
    },
    {
      "cell_type": "markdown",
      "metadata": {
        "id": "Rp90T23Z0xWF"
      },
      "source": [
        "\n",
        "# **5. Which player has won most number Gold Medals of medals? (Top 5)**"
      ]
    },
    {
      "cell_type": "code",
      "metadata": {
        "colab": {
          "base_uri": "https://localhost:8080/"
        },
        "id": "DcySkyv4026B",
        "outputId": "03baabaf-faec-4271-be0b-7df3fe6f05b8"
      },
      "source": [
        "new=df[df['Medal'] == 'Gold'].groupby(['Athlete']).count().sort_values(by = 'Medal' , ascending =False)['Medal'].head()\n",
        "print(\"Top five Atheletes with most number of Gold Medals are:\\n\",new)"
      ],
      "execution_count": 69,
      "outputs": [
        {
          "output_type": "stream",
          "name": "stdout",
          "text": [
            "Top five Atheletes with most number of Gold Medals are:\n",
            " Athlete\n",
            "PHELPS, Michael     18\n",
            "LEWIS, Carl          9\n",
            "NURMI, Paavo         9\n",
            "SPITZ, Mark          9\n",
            "LATYNINA, Larisa     9\n",
            "Name: Medal, dtype: int64\n"
          ]
        }
      ]
    },
    {
      "cell_type": "code",
      "metadata": {
        "colab": {
          "base_uri": "https://localhost:8080/",
          "height": 409
        },
        "id": "EKSctjzX1RSc",
        "outputId": "6f7b5ff1-6857-4201-c04d-44b01a87d53b"
      },
      "source": [
        "ax=new.plot(kind = 'bar', figsize = (5,5))\n",
        "ax.set_xlabel(\"Athelete\");\n",
        "ax.set_ylabel(\"Number of Gold Medals\");"
      ],
      "execution_count": 70,
      "outputs": [
        {
          "output_type": "display_data",
          "data": {
            "image/png": "[encoded data removed]",
            "text/plain": [
              "<Figure size 360x360 with 1 Axes>"
            ]
          },
          "metadata": {
            "needs_background": "light"
          }
        }
      ]
    },
    {
      "cell_type": "markdown",
      "metadata": {
        "id": "PzaaTt211WIH"
      },
      "source": [
        "# **6. In which year India won first Gold Medal in Summer Olympics?**"
      ]
    },
    {
      "cell_type": "code",
      "metadata": {
        "colab": {
          "base_uri": "https://localhost:8080/"
        },
        "id": "f3jgdXbA1bqG",
        "outputId": "ab36a7ac-2a13-4ca6-bdcc-f3dae44975e3"
      },
      "source": [
        "india = df[df['Country']=='IND']\n",
        "first = india[india['Medal']=='Gold'].sort_values(by='Year',ascending=True)['Year'].head(1)\n",
        "print(\"Year when India won first Gold Medal is:\\n\",first.values)"
      ],
      "execution_count": 77,
      "outputs": [
        {
          "output_type": "stream",
          "name": "stdout",
          "text": [
            "Year when India won first Gold Medal is:\n",
            " [1928]\n"
          ]
        }
      ]
    },
    {
      "cell_type": "markdown",
      "metadata": {
        "id": "A7A0I16q3VNw"
      },
      "source": [
        "# **7. Which event is most popular in terms on number of players? (Top 5)**"
      ]
    },
    {
      "cell_type": "code",
      "metadata": {
        "colab": {
          "base_uri": "https://localhost:8080/"
        },
        "id": "eHfURESd3PwO",
        "outputId": "362d8907-29e0-458e-b052-54a78d81b5c4"
      },
      "source": [
        "new=df.groupby(['Event']).count().sort_values(by = 'Athlete' , ascending =False)['Athlete'].head()\n",
        "print(\"Top five most popular Events in terms of number of players are:\\n\",new)"
      ],
      "execution_count": 78,
      "outputs": [
        {
          "output_type": "stream",
          "name": "stdout",
          "text": [
            "Top five most popular Events in terms of number of players are:\n",
            " Event\n",
            "Football            1497\n",
            "Hockey              1422\n",
            "Team Competition    1147\n",
            "Basketball          1012\n",
            "Handball             973\n",
            "Name: Athlete, dtype: int64\n"
          ]
        }
      ]
    },
    {
      "cell_type": "code",
      "metadata": {
        "colab": {
          "base_uri": "https://localhost:8080/",
          "height": 414
        },
        "id": "QfMj-q_m4aw8",
        "outputId": "f2b78250-1cab-443a-8a36-222d15601195"
      },
      "source": [
        "ax=new.plot(kind = 'bar', figsize = (5,5))\n",
        "ax.set_xlabel(\"Event\");\n",
        "ax.set_ylabel(\"Number of Players\");"
      ],
      "execution_count": 79,
      "outputs": [
        {
          "output_type": "display_data",
          "data": {
            "image/png": "[encoded data removed]",
            "text/plain": [
              "<Figure size 360x360 with 1 Axes>"
            ]
          },
          "metadata": {
            "needs_background": "light"
          }
        }
      ]
    },
    {
      "cell_type": "markdown",
      "metadata": {
        "id": "nNnQkT0V4jAd"
      },
      "source": [
        "# **8. Which sport is having most female Gold Medalists? (Top 5)**"
      ]
    },
    {
      "cell_type": "code",
      "metadata": {
        "colab": {
          "base_uri": "https://localhost:8080/"
        },
        "id": "WNn-5Gih4ngj",
        "outputId": "45c22fe2-816c-4079-f71e-e7f4139fe095"
      },
      "source": [
        "new=df[(df[\"Gender\"]==\"Women\") & (df[\"Medal\"]==\"Gold\")].groupby(['Sport']).count().sort_values(by = 'Medal' , ascending =False)['Medal'].head()\n",
        "print(\"Top five sports having most female Gold Medalists are:\\n\",new)"
      ],
      "execution_count": 83,
      "outputs": [
        {
          "output_type": "stream",
          "name": "stdout",
          "text": [
            "Top five sports having most female Gold Medalists are:\n",
            " Sport\n",
            "Aquatics      589\n",
            "Athletics     389\n",
            "Gymnastics    268\n",
            "Rowing        217\n",
            "Volleyball    166\n",
            "Name: Medal, dtype: int64\n"
          ]
        }
      ]
    },
    {
      "cell_type": "code",
      "metadata": {
        "colab": {
          "base_uri": "https://localhost:8080/",
          "height": 382
        },
        "id": "xQQu51Ea5h8w",
        "outputId": "6c0f0bc4-abe6-4ed8-9fa6-94702ad4534f"
      },
      "source": [
        "ax=new.plot(kind = 'bar', figsize = (5,5))\n",
        "ax.set_xlabel(\"Sport\");\n",
        "ax.set_ylabel(\"Number of Female Gold Medalists\");"
      ],
      "execution_count": 84,
      "outputs": [
        {
          "output_type": "display_data",
          "data": {
            "image/png": "[encoded data removed]",
            "text/plain": [
              "<Figure size 360x360 with 1 Axes>"
            ]
          },
          "metadata": {
            "needs_background": "light"
          }
        }
      ]
    }
  ]
}